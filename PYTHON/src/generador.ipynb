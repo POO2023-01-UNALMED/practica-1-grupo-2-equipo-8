{
 "cells": [
  {
   "cell_type": "code",
   "execution_count": 1,
   "metadata": {},
   "outputs": [],
   "source": [
    "from baseDatos.Serializador import Serializador\n",
    "from baseDatos.Deserializador import Deserializador\n",
    "from gestorAplicacion.clasesDeCurso.Curso import Curso\n",
    "from gestorAplicacion.clasesDeUsuario.Registro import Registro\n",
    "from gestorAplicacion.clasesExtra.Facultades import Facultades\n",
    "from gestorAplicacion.clasesExtra.Carreras import Carreras"
   ]
  },
  {
   "cell_type": "code",
   "execution_count": 16,
   "metadata": {},
   "outputs": [
    {
     "name": "stdout",
     "output_type": "stream",
     "text": [
      "CALCULO DIFERENCIAL\n",
      "CALCULO INTEGRAL\n",
      "CALCULO EN VARIAS VARIABLES\n",
      "GEOMETRIA VECTORIAL Y ANALITICA\n",
      "ALGEBRA LINEAL\n",
      "ECUACIONES DIFERENCIALES\n",
      "FUNDAMENTOS DE PROGRAMACION\n",
      "PROGRAMACION ORIENTADA A OBJETOS\n",
      "ESTRUCTURAS DE DATOS\n",
      "FUNDAMENTOS DE MATEMATICAS\n",
      "FUNDAMENTOS DE MATEMATICAS DISCRETAS\n",
      "FUNDAMENTOS DE ANALISIS\n",
      "TEORIA BASICA DE LA PROBABILIDAD\n",
      "BASES DE DATOS I\n",
      "MATEMATICAS DISCRETAS\n",
      "TEORIA DE LENGUAJES DE PROGRAMACION\n",
      "INGENIERIA DE SOFTWARE\n",
      "INGENIERIA DE REQUISITOS\n",
      "CALIDAD DE SOFTWARE\n",
      "VISION ARTIFICIAL\n",
      "INTRODUCCION A CIENCIAS DE LA COMPUTACION\n",
      "INTRODUCCION A INGENIERIA DE SISTEMAS\n",
      "GRUPOS Y ANILLOS\n",
      "METODOS NUMERICOS\n",
      "BASES DE DATOS II\n"
     ]
    }
   ],
   "source": [
    "Deserializador.deserializador()\n",
    "for c in Registro.getCursos() : print(c.getNombre())"
   ]
  },
  {
   "cell_type": "code",
   "execution_count": 3,
   "metadata": {},
   "outputs": [],
   "source": [
    "COMP, SIS = Carreras.COMPUTACION, Carreras.SISTEMAS\n",
    "CIEN, MIN = Facultades.CIENCIAS, Facultades.MINAS"
   ]
  },
  {
   "attachments": {},
   "cell_type": "markdown",
   "metadata": {},
   "source": [
    "# CURSOS"
   ]
  },
  {
   "cell_type": "code",
   "execution_count": 4,
   "metadata": {},
   "outputs": [],
   "source": [
    "C1 = Curso('CALCULO DIFERENCIAL', 4, 3, [33,33,34], [CIEN], carrerasRelacionadas=[COMP, SIS])\n",
    "C2 = Curso('CALCULO INTEGRAL', 4, 3, [33,33,34], [CIEN], carrerasRelacionadas=[COMP, SIS], preRequisitos=[C1])\n",
    "C3 = Curso('CALCULO EN VARIAS VARIABLES', 4, 3, [33,33,34], [CIEN], carrerasRelacionadas=[COMP, SIS], preRequisitos=[C2])\n",
    "C4 = Curso('GEOMETRIA VECTORIAL Y ANALITICA', 4, 3, [33,33,34], [CIEN], carrerasRelacionadas=[COMP, SIS])\n",
    "C5 = Curso('ALGEBRA LINEAL', 4, 3, [33,33,34], [CIEN], carrerasRelacionadas=[COMP, SIS], preRequisitos=[C4])\n",
    "C6 = Curso('ECUACIONES DIFERENCIALES', 4, 3, [33,33,34], [CIEN], carrerasRelacionadas=[COMP, SIS], preRequisitos=[C5])"
   ]
  },
  {
   "cell_type": "code",
   "execution_count": 5,
   "metadata": {},
   "outputs": [],
   "source": [
    "C7 = Curso('FUNDAMENTOS DE PROGRAMACION', 3, 3, [33,33,34], [MIN], carrerasRelacionadas=[COMP, SIS])\n",
    "C8 = Curso('PROGRAMACION ORIENTADA A OBJETOS', 3, 3, [33,33,34], [MIN], carrerasRelacionadas=[COMP, SIS], preRequisitos=[C7])\n",
    "C9 = Curso('ESTRUCTURAS DE DATOS', 3, 3, [33,33,34], [MIN], carrerasRelacionadas=[COMP, SIS], preRequisitos=[C8])"
   ]
  },
  {
   "cell_type": "code",
   "execution_count": 6,
   "metadata": {},
   "outputs": [],
   "source": [
    "C10 = Curso('FUNDAMENTOS DE MATEMATICAS', 4, 3, [33,33,34], [CIEN], carrerasRelacionadas=[COMP])\n",
    "C11 = Curso('FUNDAMENTOS DE MATEMATICAS DISCRETAS', 4, 3, [33,33,34], [CIEN], carrerasRelacionadas=[COMP], preRequisitos=[C10])\n",
    "C12 = Curso('FUNDAMENTOS DE ANALISIS', 4, 3, [33,33,34], [CIEN], carrerasRelacionadas=[COMP], preRequisitos=[C11, C1])\n",
    "C13 = Curso('TEORIA BASICA DE LA PROBABILIDAD', 4, 3, [33,33,34], [CIEN], carrerasRelacionadas=[COMP], preRequisitos=[C2, C11])"
   ]
  },
  {
   "cell_type": "code",
   "execution_count": 8,
   "metadata": {},
   "outputs": [],
   "source": [
    "C14 = Curso('BASES DE DATOS I', 3, 3, [33,33,34], [MIN], carrerasRelacionadas=[COMP,SIS], preRequisitos=[C9])\n",
    "C15 = Curso('MATEMATICAS DISCRETAS', 4, 3, [33,33,34], [CIEN], carrerasRelacionadas=[SIS])\n",
    "C16 = Curso('TEORIA DE LENGUAJES DE PROGRAMACION', 3, 3, [33,33,34], [MIN], carrerasRelacionadas=[SIS], preRequisitos=[C7, C15])\n",
    "C17 = Curso('INGENIERIA DE SOFTWARE', 3, 3, [33,33,34], [MIN], carrerasRelacionadas=[SIS], preRequisitos=[C8])\n",
    "C18 = Curso('INGENIERIA DE REQUISITOS', 3, 3, [33,33,34], [MIN], carrerasRelacionadas=[SIS], preRequisitos=[C17])\n",
    "C19 = Curso('CALIDAD DE SOFTWARE', 3, 3, [33,33,34], [MIN], carrerasRelacionadas=[SIS], preRequisitos=[C18])"
   ]
  },
  {
   "cell_type": "code",
   "execution_count": 9,
   "metadata": {},
   "outputs": [],
   "source": [
    "C20 = Curso('VISION ARTIFICIAL', 3, 3, [33,33,34], [MIN], carrerasRelacionadas=[SIS,COMP], esLibreEleccion=True)\n",
    "C21 = Curso('INTRODUCCION A CIENCIAS DE LA COMPUTACION', 2, 3, [33,33,34], [CIEN], carrerasRelacionadas=[COMP], esLibreEleccion=True)\n",
    "C22 = Curso('INTRODUCCION A INGENIERIA DE SISTEMAS', 2, 3, [33,33,34], [MIN], carrerasRelacionadas=[SIS], esLibreEleccion=True)\n",
    "C23 = Curso('GRUPOS Y ANILLOS', 4, 3, [33,33,34], [CIEN], carrerasRelacionadas=[COMP], esLibreEleccion=True)\n",
    "C24 = Curso('METODOS NUMERICOS', 4, 3, [33,33,34], [CIEN], carrerasRelacionadas=[COMP,SIS], esLibreEleccion=True)\n",
    "C23 = Curso('BASES DE DATOS II', 3, 3, [33,33,34], [CIEN], carrerasRelacionadas=[COMP,SIS], esLibreEleccion=True)"
   ]
  },
  {
   "cell_type": "code",
   "execution_count": 11,
   "metadata": {},
   "outputs": [],
   "source": [
    "Serializador.serializador()"
   ]
  }
 ],
 "metadata": {
  "kernelspec": {
   "display_name": "Python 3",
   "language": "python",
   "name": "python3"
  },
  "language_info": {
   "codemirror_mode": {
    "name": "ipython",
    "version": 3
   },
   "file_extension": ".py",
   "mimetype": "text/x-python",
   "name": "python",
   "nbconvert_exporter": "python",
   "pygments_lexer": "ipython3",
   "version": "3.9.13"
  },
  "orig_nbformat": 4
 },
 "nbformat": 4,
 "nbformat_minor": 2
}
