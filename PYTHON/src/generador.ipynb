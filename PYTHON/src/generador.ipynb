{
 "cells": [
  {
   "cell_type": "code",
   "execution_count": 4,
   "metadata": {},
   "outputs": [],
   "source": [
    "from baseDatos.Serializador import Serializador\n",
    "from baseDatos.Deserializador import Deserializador\n",
    "from gestorAplicacion.clasesDeCurso.Curso import Curso\n",
    "from gestorAplicacion.clasesDeCurso.CursoProfesor import CursoProfesor\n",
    "from gestorAplicacion.clasesDeUsuario.Registro import Registro\n",
    "from gestorAplicacion.clasesDeUsuario.Profesor import Profesor\n",
    "from gestorAplicacion.clasesExtra.Facultades import Facultades\n",
    "from gestorAplicacion.clasesExtra.Carreras import Carreras"
   ]
  },
  {
   "cell_type": "code",
   "execution_count": 5,
   "metadata": {},
   "outputs": [],
   "source": [
    "Deserializador.deserializador()"
   ]
  },
  {
   "cell_type": "code",
   "execution_count": 6,
   "metadata": {},
   "outputs": [],
   "source": [
    "COMP, SIS = Carreras.COMPUTACION, Carreras.SISTEMAS\n",
    "CIEN, MIN = Facultades.CIENCIAS, Facultades.MINAS"
   ]
  },
  {
   "attachments": {},
   "cell_type": "markdown",
   "metadata": {},
   "source": [
    "# CURSOS"
   ]
  },
  {
   "cell_type": "code",
   "execution_count": 4,
   "metadata": {},
   "outputs": [],
   "source": [
    "C1 = Curso('CALCULO DIFERENCIAL', 4, 3, [33,33,34], [CIEN], carrerasRelacionadas=[COMP, SIS])\n",
    "C2 = Curso('CALCULO INTEGRAL', 4, 3, [33,33,34], [CIEN], carrerasRelacionadas=[COMP, SIS], preRequisitos=[C1])\n",
    "C3 = Curso('CALCULO EN VARIAS VARIABLES', 4, 3, [33,33,34], [CIEN], carrerasRelacionadas=[COMP, SIS], preRequisitos=[C2])\n",
    "C4 = Curso('GEOMETRIA VECTORIAL Y ANALITICA', 4, 3, [33,33,34], [CIEN], carrerasRelacionadas=[COMP, SIS])\n",
    "C5 = Curso('ALGEBRA LINEAL', 4, 3, [33,33,34], [CIEN], carrerasRelacionadas=[COMP, SIS], preRequisitos=[C4])\n",
    "C6 = Curso('ECUACIONES DIFERENCIALES', 4, 3, [33,33,34], [CIEN], carrerasRelacionadas=[COMP, SIS], preRequisitos=[C5])"
   ]
  },
  {
   "cell_type": "code",
   "execution_count": 5,
   "metadata": {},
   "outputs": [],
   "source": [
    "C7 = Curso('FUNDAMENTOS DE PROGRAMACION', 3, 3, [33,33,34], [MIN], carrerasRelacionadas=[COMP, SIS])\n",
    "C8 = Curso('PROGRAMACION ORIENTADA A OBJETOS', 3, 3, [33,33,34], [MIN], carrerasRelacionadas=[COMP, SIS], preRequisitos=[C7])\n",
    "C9 = Curso('ESTRUCTURAS DE DATOS', 3, 3, [33,33,34], [MIN], carrerasRelacionadas=[COMP, SIS], preRequisitos=[C8])"
   ]
  },
  {
   "cell_type": "code",
   "execution_count": 6,
   "metadata": {},
   "outputs": [],
   "source": [
    "C10 = Curso('FUNDAMENTOS DE MATEMATICAS', 4, 3, [33,33,34], [CIEN], carrerasRelacionadas=[COMP])\n",
    "C11 = Curso('FUNDAMENTOS DE MATEMATICAS DISCRETAS', 4, 3, [33,33,34], [CIEN], carrerasRelacionadas=[COMP], preRequisitos=[C10])\n",
    "C12 = Curso('FUNDAMENTOS DE ANALISIS', 4, 3, [33,33,34], [CIEN], carrerasRelacionadas=[COMP], preRequisitos=[C11, C1])\n",
    "C13 = Curso('TEORIA BASICA DE LA PROBABILIDAD', 4, 3, [33,33,34], [CIEN], carrerasRelacionadas=[COMP], preRequisitos=[C2, C11])"
   ]
  },
  {
   "cell_type": "code",
   "execution_count": 7,
   "metadata": {},
   "outputs": [],
   "source": [
    "C14 = Curso('BASES DE DATOS I', 3, 3, [33,33,34], [MIN], carrerasRelacionadas=[COMP,SIS], preRequisitos=[C9])\n",
    "C15 = Curso('MATEMATICAS DISCRETAS', 4, 3, [33,33,34], [CIEN], carrerasRelacionadas=[SIS])\n",
    "C16 = Curso('TEORIA DE LENGUAJES DE PROGRAMACION', 3, 3, [33,33,34], [MIN], carrerasRelacionadas=[SIS], preRequisitos=[C7, C15])\n",
    "C17 = Curso('INGENIERIA DE SOFTWARE', 3, 3, [33,33,34], [MIN], carrerasRelacionadas=[SIS], preRequisitos=[C8])\n",
    "C18 = Curso('INGENIERIA DE REQUISITOS', 3, 3, [33,33,34], [MIN], carrerasRelacionadas=[SIS], preRequisitos=[C17])\n",
    "C19 = Curso('CALIDAD DE SOFTWARE', 3, 3, [33,33,34], [MIN], carrerasRelacionadas=[SIS], preRequisitos=[C18])"
   ]
  },
  {
   "cell_type": "code",
   "execution_count": 8,
   "metadata": {},
   "outputs": [],
   "source": [
    "C20 = Curso('VISION ARTIFICIAL', 3, 3, [33,33,34], [MIN], carrerasRelacionadas=[SIS,COMP], esLibreEleccion=True)\n",
    "C21 = Curso('INTRODUCCION A CIENCIAS DE LA COMPUTACION', 2, 3, [33,33,34], [CIEN], carrerasRelacionadas=[COMP], esLibreEleccion=True)\n",
    "C22 = Curso('INTRODUCCION A INGENIERIA DE SISTEMAS', 2, 3, [33,33,34], [MIN], carrerasRelacionadas=[SIS], esLibreEleccion=True)\n",
    "C23 = Curso('GRUPOS Y ANILLOS', 4, 3, [33,33,34], [CIEN], carrerasRelacionadas=[COMP], esLibreEleccion=True)\n",
    "C24 = Curso('METODOS NUMERICOS', 4, 3, [33,33,34], [CIEN], carrerasRelacionadas=[COMP,SIS], esLibreEleccion=True)\n",
    "C23 = Curso('BASES DE DATOS II', 3, 3, [33,33,34], [CIEN], carrerasRelacionadas=[COMP,SIS], esLibreEleccion=True)"
   ]
  },
  {
   "cell_type": "code",
   "execution_count": 4,
   "metadata": {},
   "outputs": [
    {
     "name": "stdout",
     "output_type": "stream",
     "text": [
      "100000        CALCULO DIFERENCIAL                 4   Ciencias             Ciencias de la Computacion, Ingenieria de Sistemas\n",
      "100001        CALCULO INTEGRAL                    4   Ciencias             Ciencias de la Computacion, Ingenieria de Sistemas\n",
      "100002        CALCULO EN VARIAS VARIABLES         4   Ciencias             Ciencias de la Computacion, Ingenieria de Sistemas\n",
      "100003        GEOMETRIA VECTORIAL Y ANALITICA     4   Ciencias             Ciencias de la Computacion, Ingenieria de Sistemas\n",
      "100004        ALGEBRA LINEAL                      4   Ciencias             Ciencias de la Computacion, Ingenieria de Sistemas\n",
      "100005        ECUACIONES DIFERENCIALES            4   Ciencias             Ciencias de la Computacion, Ingenieria de Sistemas\n",
      "100006        FUNDAMENTOS DE PROGRAMACION         3   Minas                Ciencias de la Computacion, Ingenieria de Sistemas\n",
      "100007        PROGRAMACION ORIENTADA A OBJETOS    3   Minas                Ciencias de la Computacion, Ingenieria de Sistemas\n",
      "100008        ESTRUCTURAS DE DATOS                3   Minas                Ciencias de la Computacion, Ingenieria de Sistemas\n",
      "100009        FUNDAMENTOS DE MATEMATICAS          4   Ciencias             Ciencias de la Computacion    \n",
      "100010        FUNDAMENTOS DE MATEMATICAS DISCR    4   Ciencias             Ciencias de la Computacion    \n",
      "100011        FUNDAMENTOS DE ANALISIS             4   Ciencias             Ciencias de la Computacion    \n",
      "100012        TEORIA BASICA DE LA PROBABILIDAD    4   Ciencias             Ciencias de la Computacion    \n",
      "100013        BASES DE DATOS I                    3   Minas                Ciencias de la Computacion, Ingenieria de Sistemas\n",
      "100014        MATEMATICAS DISCRETAS               4   Ciencias             Ingenieria de Sistemas        \n",
      "100015        TEORIA DE LENGUAJES DE PROGRAMAC    3   Minas                Ingenieria de Sistemas        \n",
      "100016        INGENIERIA DE SOFTWARE              3   Minas                Ingenieria de Sistemas        \n",
      "100017        INGENIERIA DE REQUISITOS            3   Minas                Ingenieria de Sistemas        \n",
      "100018        CALIDAD DE SOFTWARE                 3   Minas                Ingenieria de Sistemas        \n",
      "100019        VISION ARTIFICIAL                   3   Minas                Ingenieria de Sistemas, Ciencias de la Computacion\n",
      "100020        INTRODUCCION A CIENCIAS DE LA CO    2   Ciencias             Ciencias de la Computacion    \n",
      "100021        INTRODUCCION A INGENIERIA DE SIS    2   Minas                Ingenieria de Sistemas        \n",
      "100022        GRUPOS Y ANILLOS                    4   Ciencias             Ciencias de la Computacion    \n",
      "100023        METODOS NUMERICOS                   4   Ciencias             Ciencias de la Computacion, Ingenieria de Sistemas\n",
      "100024        BASES DE DATOS II                   3   Ciencias             Ciencias de la Computacion, Ingenieria de Sistemas\n"
     ]
    }
   ],
   "source": [
    "for c in Registro.getCursos() :\n",
    "    print(\"{:<10}    {:<32}    {}   {:<17}    {:<30}\".format(c.getId(), c.getNombre()[:32], c.getCreditos(), c.getFacultad()[0].value[1], ', '.join([i.value[1] for i in c.getCarrerasRelacionadas()])))"
   ]
  },
  {
   "attachments": {},
   "cell_type": "markdown",
   "metadata": {},
   "source": [
    "# PROFESORES"
   ]
  },
  {
   "cell_type": "code",
   "execution_count": 7,
   "metadata": {},
   "outputs": [],
   "source": [
    "def GenerarProfesor(nombre, ids=[], fac=None) :\n",
    "    from random import randint\n",
    "    horarios1 = [f\"Martes {str(n).zfill(2)}:00-{str(n+2).zfill(2)}:00 Jueves {str(n).zfill(2)}:00-{str(n+2).zfill(2)}:00\" for n in range(6, 20, 2)]\n",
    "    horarios2 = [f\"Miercoles {str(n).zfill(2)}:00-{str(n+2).zfill(2)}:00 Viernes {str(n).zfill(2)}:00-{str(n+2).zfill(2)}:00\" for n in range(6, 20, 2)]\n",
    "    horarios3 = [f\"Lunes {str(n).zfill(2)}:00-{str(n+2).zfill(2)}:00 Sabado {str(n).zfill(2)}:00-{str(n+2).zfill(2)}:00\" for n in range(6, 20, 2)]\n",
    "    horarios = horarios1 + horarios2 + horarios3\n",
    "\n",
    "    if fac == None :\n",
    "        facs = [MIN, CIEN]\n",
    "        fac = facs[randint(0,1)]\n",
    "\n",
    "    usuario = ''.join(nombre.split()).lower()\n",
    "    correo = f\"{usuario}@unal.edu.co\"\n",
    "    contr = '1234'\n",
    "    doc = randint(1000000000, 1400000000)\n",
    "\n",
    "    if len(ids) == 0 :\n",
    "        ids = set([randint(100000, 100024) for i in range(3)])\n",
    "\n",
    "    cursos = []\n",
    "    for id in ids :\n",
    "        hor_index = randint(0,len(horarios)-1)\n",
    "        horario = horarios[hor_index]\n",
    "        for curso in Registro.getCursos() :\n",
    "            if curso.getId() == id :\n",
    "                cp = CursoProfesor(curso.getNombre(), curso.getId(), curso.getCreditos(), curso.getNumeroParciales(), curso.getListaPorcentajes(), curso.getFacultad(), horario)\n",
    "                cursos.append(cp)\n",
    "\n",
    "    P = Profesor(nombre, correo, usuario, contr, doc, cursos, fac)\n",
    "\n",
    "    for id in ids :\n",
    "        for curso in Registro.getCursos() :\n",
    "            if curso.getId() == id :\n",
    "                curso.agregarProfesor(P)"
   ]
  },
  {
   "cell_type": "code",
   "execution_count": 8,
   "metadata": {},
   "outputs": [],
   "source": [
    "GenerarProfesor('Alberto Toro', [100003], MIN)\n",
    "GenerarProfesor('Alejandra Mantilla', [100000, 100005, 100011], CIEN)\n",
    "GenerarProfesor('Armando Bonilla', [100000, 100005, 100011], MIN)\n",
    "GenerarProfesor('Mariana Perez', [100000, 100002, 100003, 100005, 100011], CIEN)\n",
    "GenerarProfesor('Gustavo Rendon', [100000, 100002, 100003, 100005, 100011], MIN)"
   ]
  },
  {
   "cell_type": "code",
   "execution_count": 9,
   "metadata": {},
   "outputs": [],
   "source": [
    "profs = [\n",
    "    \"Emma Garcia\",\n",
    "    \"Mateo Lopez\",\n",
    "    \"Sofia Rodriguez\",\n",
    "    \"Alejandro Torres\",\n",
    "    \"Valentina Gonzalez\",\n",
    "    \"Lucas Ramirez\",\n",
    "    \"Isabella Fernandez\",\n",
    "    \"Julian Herrera\",\n",
    "    \"Camila Castro\",\n",
    "    \"Sebastian Vargas\",\n",
    "    \"Valeria Morales\",\n",
    "    \"Nicolas Navarro\",\n",
    "    \"Martina Paredes\",\n",
    "    \"Daniel Mendoza\",\n",
    "    \"Antonella Silva\",\n",
    "    \"Santiago Rios\",\n",
    "    \"Lucia Castro\",\n",
    "    \"Gabriel Delgado\",\n",
    "    \"Renata Ortiz\",\n",
    "    \"Tomas Medina\",\n",
    "    \"Luisa Martinez\",\n",
    "    \"Andres Diaz\",\n",
    "    \"Mariana Ruiz\",\n",
    "    \"Juan Romero\",\n",
    "    \"Carolina Morales\",\n",
    "    \"Diego Herrera\",\n",
    "    \"Paula Gutierrez\",\n",
    "    \"Felipe Castro\",\n",
    "    \"Maria Sanchez\",\n",
    "    \"Pedro Jimenez\"\n",
    "]\n",
    "for p in profs :\n",
    "    GenerarProfesor(p)"
   ]
  },
  {
   "cell_type": "code",
   "execution_count": 88,
   "metadata": {},
   "outputs": [],
   "source": [
    "Registro.setProfesores([])\n",
    "for c in Registro.getCursos() : c.setProfesoresQueDictanElCurso([])"
   ]
  },
  {
   "cell_type": "code",
   "execution_count": 5,
   "metadata": {},
   "outputs": [],
   "source": [
    "from random import uniform\n",
    "for profesor in Registro.getProfesores() :\n",
    "    profesor.setCalificacion(round(uniform(2, 5.1), 1))"
   ]
  },
  {
   "cell_type": "code",
   "execution_count": 6,
   "metadata": {},
   "outputs": [
    {
     "name": "stdout",
     "output_type": "stream",
     "text": [
      "Alberto Toro    3.4\n",
      "Alejandra Mantilla    4.9\n",
      "Armando Bonilla    3.6\n",
      "Mariana Perez    2.7\n",
      "Gustavo Rendon    3.5\n",
      "Emma Garcia    3.9\n",
      "Mateo Lopez    4.1\n",
      "Sofia Rodriguez    3.2\n",
      "Alejandro Torres    2.4\n",
      "Valentina Gonzalez    2.7\n",
      "Lucas Ramirez    4.3\n",
      "Isabella Fernandez    4.3\n",
      "Julian Herrera    4.7\n",
      "Camila Castro    3.9\n",
      "Sebastian Vargas    3.8\n",
      "Valeria Morales    4.3\n",
      "Nicolas Navarro    2.3\n",
      "Martina Paredes    2.2\n",
      "Daniel Mendoza    3.5\n",
      "Antonella Silva    4.4\n",
      "Santiago Rios    2.5\n",
      "Lucia Castro    2.1\n",
      "Gabriel Delgado    2.0\n",
      "Renata Ortiz    2.3\n",
      "Tomas Medina    2.8\n",
      "Luisa Martinez    3.1\n",
      "Andres Diaz    4.1\n",
      "Mariana Ruiz    2.3\n",
      "Juan Romero    2.5\n",
      "Carolina Morales    3.4\n",
      "Diego Herrera    4.3\n",
      "Paula Gutierrez    5.0\n",
      "Felipe Castro    2.7\n",
      "Maria Sanchez    3.3\n",
      "Pedro Jimenez    4.2\n"
     ]
    }
   ],
   "source": [
    "for profesor in Registro.getProfesores() :\n",
    "    print(f\"{profesor.getNombre()}    {profesor.getCalificacion()}\")"
   ]
  },
  {
   "cell_type": "code",
   "execution_count": 7,
   "metadata": {},
   "outputs": [],
   "source": [
    "Serializador.serializador()"
   ]
  }
 ],
 "metadata": {
  "kernelspec": {
   "display_name": "Python 3",
   "language": "python",
   "name": "python3"
  },
  "language_info": {
   "codemirror_mode": {
    "name": "ipython",
    "version": 3
   },
   "file_extension": ".py",
   "mimetype": "text/x-python",
   "name": "python",
   "nbconvert_exporter": "python",
   "pygments_lexer": "ipython3",
   "version": "3.10.11"
  },
  "orig_nbformat": 4
 },
 "nbformat": 4,
 "nbformat_minor": 2
}
