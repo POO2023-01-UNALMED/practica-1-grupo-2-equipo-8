{
 "cells": [
  {
   "cell_type": "code",
   "execution_count": 1,
   "metadata": {},
   "outputs": [],
   "source": [
    "from baseDatos.Serializador import Serializador\n",
    "from baseDatos.Deserializador import Deserializador\n",
    "from gestorAplicacion.clasesDeCurso.Curso import Curso\n",
    "from gestorAplicacion.clasesDeCurso.CursoProfesor import CursoProfesor\n",
    "from gestorAplicacion.clasesDeCurso.CursoEstudiante import CursoEstudiante\n",
    "from gestorAplicacion.clasesDeUsuario.Registro import Registro\n",
    "from gestorAplicacion.clasesDeUsuario.Profesor import Profesor\n",
    "from gestorAplicacion.clasesDeUsuario.Estudiante import Estudiante\n",
    "from gestorAplicacion.clasesDeUsuario.Admin import Admin\n",
    "from gestorAplicacion.clasesExtra.EstimuloProfesor import EstimuloProfesor\n",
    "from gestorAplicacion.clasesExtra.EstimuloEstudiante import EstimuloEstudiante\n",
    "from gestorAplicacion.clasesExtra.Facultades import Facultades\n",
    "from gestorAplicacion.clasesExtra.Carreras import Carreras\n",
    "from gestorAplicacion.clasesExtra.Horario import Horario\n",
    "from gestorAplicacion.clasesExtra.TipoUsuarios import TipoUsuarios\n"
   ]
  },
  {
   "cell_type": "code",
   "execution_count": 2,
   "metadata": {},
   "outputs": [],
   "source": [
    "Deserializador.deserializador()"
   ]
  },
  {
   "cell_type": "code",
   "execution_count": 3,
   "metadata": {},
   "outputs": [
    {
     "data": {
      "text/plain": [
       "[<gestorAplicacion.clasesDeUsuario.Estudiante.Estudiante at 0x1cd13a487c0>,\n",
       " <gestorAplicacion.clasesDeUsuario.Estudiante.Estudiante at 0x1cd13a48970>,\n",
       " <gestorAplicacion.clasesDeUsuario.Estudiante.Estudiante at 0x1cd13a48b50>,\n",
       " <gestorAplicacion.clasesDeUsuario.Estudiante.Estudiante at 0x1cd13a48d30>,\n",
       " <gestorAplicacion.clasesDeUsuario.Estudiante.Estudiante at 0x1cd13a48fa0>,\n",
       " <gestorAplicacion.clasesDeUsuario.Estudiante.Estudiante at 0x1cd13a56340>,\n",
       " <gestorAplicacion.clasesDeUsuario.Estudiante.Estudiante at 0x1cd13a56790>,\n",
       " <gestorAplicacion.clasesDeUsuario.Estudiante.Estudiante at 0x1cd13a56c40>,\n",
       " <gestorAplicacion.clasesDeUsuario.Estudiante.Estudiante at 0x1cd13a610a0>,\n",
       " <gestorAplicacion.clasesDeUsuario.Estudiante.Estudiante at 0x1cd13a612b0>,\n",
       " <gestorAplicacion.clasesDeUsuario.Estudiante.Estudiante at 0x1cd13a614f0>,\n",
       " <gestorAplicacion.clasesDeUsuario.Estudiante.Estudiante at 0x1cd13a61670>,\n",
       " <gestorAplicacion.clasesDeUsuario.Estudiante.Estudiante at 0x1cd13a61820>,\n",
       " <gestorAplicacion.clasesDeUsuario.Estudiante.Estudiante at 0x1cd13a61850>,\n",
       " <gestorAplicacion.clasesDeUsuario.Estudiante.Estudiante at 0x1cd13a61be0>,\n",
       " <gestorAplicacion.clasesDeUsuario.Estudiante.Estudiante at 0x1cd13a61ee0>,\n",
       " <gestorAplicacion.clasesDeUsuario.Estudiante.Estudiante at 0x1cd13a61f40>,\n",
       " <gestorAplicacion.clasesDeUsuario.Estudiante.Estudiante at 0x1cd13a6d4f0>,\n",
       " <gestorAplicacion.clasesDeUsuario.Estudiante.Estudiante at 0x1cd13a6d670>,\n",
       " <gestorAplicacion.clasesDeUsuario.Estudiante.Estudiante at 0x1cd13a6d790>,\n",
       " <gestorAplicacion.clasesDeUsuario.Estudiante.Estudiante at 0x1cd13a6dd00>,\n",
       " <gestorAplicacion.clasesDeUsuario.Estudiante.Estudiante at 0x1cd13a6dd60>,\n",
       " <gestorAplicacion.clasesDeUsuario.Estudiante.Estudiante at 0x1cd13a6ddc0>,\n",
       " <gestorAplicacion.clasesDeUsuario.Estudiante.Estudiante at 0x1cd13a7a100>,\n",
       " <gestorAplicacion.clasesDeUsuario.Estudiante.Estudiante at 0x1cd13a7a3a0>,\n",
       " <gestorAplicacion.clasesDeUsuario.Estudiante.Estudiante at 0x1cd13a7a610>,\n",
       " <gestorAplicacion.clasesDeUsuario.Estudiante.Estudiante at 0x1cd13a7a850>,\n",
       " <gestorAplicacion.clasesDeUsuario.Estudiante.Estudiante at 0x1cd13a7adc0>,\n",
       " <gestorAplicacion.clasesDeUsuario.Estudiante.Estudiante at 0x1cd13a862b0>,\n",
       " <gestorAplicacion.clasesDeUsuario.Estudiante.Estudiante at 0x1cd13a86700>,\n",
       " <gestorAplicacion.clasesDeUsuario.Estudiante.Estudiante at 0x1cd13a86970>,\n",
       " <gestorAplicacion.clasesDeUsuario.Estudiante.Estudiante at 0x1cd13a86ac0>,\n",
       " <gestorAplicacion.clasesDeUsuario.Estudiante.Estudiante at 0x1cd13a86bb0>,\n",
       " <gestorAplicacion.clasesDeUsuario.Estudiante.Estudiante at 0x1cd13a86e20>,\n",
       " <gestorAplicacion.clasesDeUsuario.Estudiante.Estudiante at 0x1cd13a91370>]"
      ]
     },
     "execution_count": 3,
     "metadata": {},
     "output_type": "execute_result"
    }
   ],
   "source": [
    "Registro.getEstudiantes()"
   ]
  },
  {
   "cell_type": "code",
   "execution_count": 4,
   "metadata": {},
   "outputs": [
    {
     "data": {
      "text/plain": [
       "[<gestorAplicacion.clasesDeCurso.Curso.Curso at 0x1cd13a91730>,\n",
       " <gestorAplicacion.clasesDeCurso.Curso.Curso at 0x1cd13a91ee0>,\n",
       " <gestorAplicacion.clasesDeCurso.Curso.Curso at 0x1cd13a9b250>,\n",
       " <gestorAplicacion.clasesDeCurso.Curso.Curso at 0x1cd13a9b610>,\n",
       " <gestorAplicacion.clasesDeCurso.Curso.Curso at 0x1cd13a9b760>,\n",
       " <gestorAplicacion.clasesDeCurso.Curso.Curso at 0x1cd13a9b910>,\n",
       " <gestorAplicacion.clasesDeCurso.Curso.Curso at 0x1cd13a9ba00>,\n",
       " <gestorAplicacion.clasesDeCurso.Curso.Curso at 0x1cd13a9baf0>,\n",
       " <gestorAplicacion.clasesDeCurso.Curso.Curso at 0x1cd13a9bbe0>,\n",
       " <gestorAplicacion.clasesDeCurso.Curso.Curso at 0x1cd13a9bcd0>,\n",
       " <gestorAplicacion.clasesDeCurso.Curso.Curso at 0x1cd13a9bf40>,\n",
       " <gestorAplicacion.clasesDeCurso.Curso.Curso at 0x1cd13aa7070>,\n",
       " <gestorAplicacion.clasesDeCurso.Curso.Curso at 0x1cd13aa70a0>,\n",
       " <gestorAplicacion.clasesDeCurso.Curso.Curso at 0x1cd13aa7190>,\n",
       " <gestorAplicacion.clasesDeCurso.Curso.Curso at 0x1cd13aa71c0>,\n",
       " <gestorAplicacion.clasesDeCurso.Curso.Curso at 0x1cd13aa71f0>,\n",
       " <gestorAplicacion.clasesDeCurso.Curso.Curso at 0x1cd13aa72e0>,\n",
       " <gestorAplicacion.clasesDeCurso.Curso.Curso at 0x1cd13aa73d0>,\n",
       " <gestorAplicacion.clasesDeCurso.Curso.Curso at 0x1cd13aa74c0>,\n",
       " <gestorAplicacion.clasesDeCurso.Curso.Curso at 0x1cd13aa7580>,\n",
       " <gestorAplicacion.clasesDeCurso.Curso.Curso at 0x1cd13aa75b0>,\n",
       " <gestorAplicacion.clasesDeCurso.Curso.Curso at 0x1cd13aa75e0>,\n",
       " <gestorAplicacion.clasesDeCurso.Curso.Curso at 0x1cd13aa7610>,\n",
       " <gestorAplicacion.clasesDeCurso.Curso.Curso at 0x1cd13aa7640>,\n",
       " <gestorAplicacion.clasesDeCurso.Curso.Curso at 0x1cd13aa7670>]"
      ]
     },
     "execution_count": 4,
     "metadata": {},
     "output_type": "execute_result"
    }
   ],
   "source": [
    "Registro.getCursos()"
   ]
  },
  {
   "cell_type": "code",
   "execution_count": 5,
   "metadata": {},
   "outputs": [
    {
     "data": {
      "text/plain": [
       "[<gestorAplicacion.clasesDeUsuario.Profesor.Profesor at 0x1cd135d3d30>,\n",
       " <gestorAplicacion.clasesDeUsuario.Profesor.Profesor at 0x1cd135d3f10>,\n",
       " <gestorAplicacion.clasesDeUsuario.Profesor.Profesor at 0x1cd135d3fd0>,\n",
       " <gestorAplicacion.clasesDeUsuario.Profesor.Profesor at 0x1cd135d3790>,\n",
       " <gestorAplicacion.clasesDeUsuario.Profesor.Profesor at 0x1cd135c2a30>,\n",
       " <gestorAplicacion.clasesDeUsuario.Profesor.Profesor at 0x1cd135c95b0>,\n",
       " <gestorAplicacion.clasesDeUsuario.Profesor.Profesor at 0x1cd135c9340>,\n",
       " <gestorAplicacion.clasesDeUsuario.Profesor.Profesor at 0x1cd135c9370>,\n",
       " <gestorAplicacion.clasesDeUsuario.Profesor.Profesor at 0x1cd135c9eb0>,\n",
       " <gestorAplicacion.clasesDeUsuario.Profesor.Profesor at 0x1cd135c93d0>,\n",
       " <gestorAplicacion.clasesDeUsuario.Profesor.Profesor at 0x1cd13a320a0>,\n",
       " <gestorAplicacion.clasesDeUsuario.Profesor.Profesor at 0x1cd13a325b0>,\n",
       " <gestorAplicacion.clasesDeUsuario.Profesor.Profesor at 0x1cd13a326a0>,\n",
       " <gestorAplicacion.clasesDeUsuario.Profesor.Profesor at 0x1cd13a32760>,\n",
       " <gestorAplicacion.clasesDeUsuario.Profesor.Profesor at 0x1cd13a32820>,\n",
       " <gestorAplicacion.clasesDeUsuario.Profesor.Profesor at 0x1cd13a328e0>,\n",
       " <gestorAplicacion.clasesDeUsuario.Profesor.Profesor at 0x1cd13a329a0>,\n",
       " <gestorAplicacion.clasesDeUsuario.Profesor.Profesor at 0x1cd13a32a60>,\n",
       " <gestorAplicacion.clasesDeUsuario.Profesor.Profesor at 0x1cd13a32b20>,\n",
       " <gestorAplicacion.clasesDeUsuario.Profesor.Profesor at 0x1cd13a32be0>,\n",
       " <gestorAplicacion.clasesDeUsuario.Profesor.Profesor at 0x1cd13a32ca0>,\n",
       " <gestorAplicacion.clasesDeUsuario.Profesor.Profesor at 0x1cd13a32d60>,\n",
       " <gestorAplicacion.clasesDeUsuario.Profesor.Profesor at 0x1cd13a32df0>,\n",
       " <gestorAplicacion.clasesDeUsuario.Profesor.Profesor at 0x1cd13a32e80>,\n",
       " <gestorAplicacion.clasesDeUsuario.Profesor.Profesor at 0x1cd13a32f40>,\n",
       " <gestorAplicacion.clasesDeUsuario.Profesor.Profesor at 0x1cd13a48040>,\n",
       " <gestorAplicacion.clasesDeUsuario.Profesor.Profesor at 0x1cd13a48100>,\n",
       " <gestorAplicacion.clasesDeUsuario.Profesor.Profesor at 0x1cd13a481c0>,\n",
       " <gestorAplicacion.clasesDeUsuario.Profesor.Profesor at 0x1cd13a48280>,\n",
       " <gestorAplicacion.clasesDeUsuario.Profesor.Profesor at 0x1cd13a48340>,\n",
       " <gestorAplicacion.clasesDeUsuario.Profesor.Profesor at 0x1cd13a48400>,\n",
       " <gestorAplicacion.clasesDeUsuario.Profesor.Profesor at 0x1cd13a484c0>,\n",
       " <gestorAplicacion.clasesDeUsuario.Profesor.Profesor at 0x1cd13a48580>,\n",
       " <gestorAplicacion.clasesDeUsuario.Profesor.Profesor at 0x1cd13a48640>,\n",
       " <gestorAplicacion.clasesDeUsuario.Profesor.Profesor at 0x1cd13a48700>]"
      ]
     },
     "execution_count": 5,
     "metadata": {},
     "output_type": "execute_result"
    }
   ],
   "source": [
    "Registro.getProfesores()"
   ]
  },
  {
   "cell_type": "code",
   "execution_count": 7,
   "metadata": {},
   "outputs": [],
   "source": [
    "COMP, SIS = Carreras.COMPUTACION, Carreras.SISTEMAS\n",
    "CIEN, MIN = Facultades.CIENCIAS, Facultades.MINAS\n"
   ]
  },
  {
   "attachments": {},
   "cell_type": "markdown",
   "metadata": {},
   "source": [
    "# CURSOS"
   ]
  },
  {
   "cell_type": "code",
   "execution_count": 7,
   "metadata": {},
   "outputs": [],
   "source": [
    "C1 = Curso('CALCULO DIFERENCIAL', 4, 3, [33,33,34], [CIEN], carrerasRelacionadas=[COMP, SIS])\n",
    "C2 = Curso('CALCULO INTEGRAL', 4, 3, [33,33,34], [CIEN], carrerasRelacionadas=[COMP, SIS], preRequisitos=[C1])\n",
    "C3 = Curso('CALCULO EN VARIAS VARIABLES', 4, 3, [33,33,34], [CIEN], carrerasRelacionadas=[COMP, SIS], preRequisitos=[C2])\n",
    "C4 = Curso('GEOMETRIA VECTORIAL Y ANALITICA', 4, 3, [33,33,34], [CIEN], carrerasRelacionadas=[COMP, SIS])\n",
    "C5 = Curso('ALGEBRA LINEAL', 4, 3, [33,33,34], [CIEN], carrerasRelacionadas=[COMP, SIS], preRequisitos=[C4])\n",
    "C6 = Curso('ECUACIONES DIFERENCIALES', 4, 3, [33,33,34], [CIEN], carrerasRelacionadas=[COMP, SIS], preRequisitos=[C5])"
   ]
  },
  {
   "cell_type": "code",
   "execution_count": 8,
   "metadata": {},
   "outputs": [],
   "source": [
    "C7 = Curso('FUNDAMENTOS DE PROGRAMACION', 3, 3, [33,33,34], [MIN], carrerasRelacionadas=[COMP, SIS])\n",
    "C8 = Curso('PROGRAMACION ORIENTADA A OBJETOS', 3, 3, [33,33,34], [MIN], carrerasRelacionadas=[COMP, SIS], preRequisitos=[C7])\n",
    "C9 = Curso('ESTRUCTURAS DE DATOS', 3, 3, [33,33,34], [MIN], carrerasRelacionadas=[COMP, SIS], preRequisitos=[C8])"
   ]
  },
  {
   "cell_type": "code",
   "execution_count": 9,
   "metadata": {},
   "outputs": [],
   "source": [
    "C10 = Curso('FUNDAMENTOS DE MATEMATICAS', 4, 3, [33,33,34], [CIEN], carrerasRelacionadas=[COMP])\n",
    "C11 = Curso('FUNDAMENTOS DE MATEMATICAS DISCRETAS', 4, 3, [33,33,34], [CIEN], carrerasRelacionadas=[COMP], preRequisitos=[C10])\n",
    "C12 = Curso('FUNDAMENTOS DE ANALISIS', 4, 3, [33,33,34], [CIEN], carrerasRelacionadas=[COMP], preRequisitos=[C11, C1])\n",
    "C13 = Curso('TEORIA BASICA DE LA PROBABILIDAD', 4, 3, [33,33,34], [CIEN], carrerasRelacionadas=[COMP], preRequisitos=[C2, C11])"
   ]
  },
  {
   "cell_type": "code",
   "execution_count": 10,
   "metadata": {},
   "outputs": [],
   "source": [
    "C14 = Curso('BASES DE DATOS I', 3, 3, [33,33,34], [MIN], carrerasRelacionadas=[COMP,SIS], preRequisitos=[C9])\n",
    "C15 = Curso('MATEMATICAS DISCRETAS', 4, 3, [33,33,34], [CIEN], carrerasRelacionadas=[SIS])\n",
    "C16 = Curso('TEORIA DE LENGUAJES DE PROGRAMACION', 3, 3, [33,33,34], [MIN], carrerasRelacionadas=[SIS], preRequisitos=[C7, C15])\n",
    "C17 = Curso('INGENIERIA DE SOFTWARE', 3, 3, [33,33,34], [MIN], carrerasRelacionadas=[SIS], preRequisitos=[C8])\n",
    "C18 = Curso('INGENIERIA DE REQUISITOS', 3, 3, [33,33,34], [MIN], carrerasRelacionadas=[SIS], preRequisitos=[C17])\n",
    "C19 = Curso('CALIDAD DE SOFTWARE', 3, 3, [33,33,34], [MIN], carrerasRelacionadas=[SIS], preRequisitos=[C18])"
   ]
  },
  {
   "cell_type": "code",
   "execution_count": 11,
   "metadata": {},
   "outputs": [],
   "source": [
    "C20 = Curso('VISION ARTIFICIAL', 3, 3, [33,33,34], [MIN], carrerasRelacionadas=[SIS,COMP], esLibreEleccion=True)\n",
    "C21 = Curso('INTRODUCCION A CIENCIAS DE LA COMPUTACION', 2, 3, [33,33,34], [CIEN], carrerasRelacionadas=[COMP], esLibreEleccion=True)\n",
    "C22 = Curso('INTRODUCCION A INGENIERIA DE SISTEMAS', 2, 3, [33,33,34], [MIN], carrerasRelacionadas=[SIS], esLibreEleccion=True)\n",
    "C23 = Curso('GRUPOS Y ANILLOS', 4, 3, [33,33,34], [CIEN], carrerasRelacionadas=[COMP], esLibreEleccion=True)\n",
    "C24 = Curso('METODOS NUMERICOS', 4, 3, [33,33,34], [CIEN], carrerasRelacionadas=[COMP,SIS], esLibreEleccion=True)\n",
    "C23 = Curso('BASES DE DATOS II', 3, 3, [33,33,34], [CIEN], carrerasRelacionadas=[COMP,SIS], esLibreEleccion=True)"
   ]
  },
  {
   "cell_type": "code",
   "execution_count": 12,
   "metadata": {},
   "outputs": [
    {
     "name": "stdout",
     "output_type": "stream",
     "text": [
      "100000        CALCULO DIFERENCIAL                 4   Ciencias             Ciencias de la Computacion, Ingenieria de Sistemas\n",
      "100001        CALCULO INTEGRAL                    4   Ciencias             Ciencias de la Computacion, Ingenieria de Sistemas\n",
      "100002        CALCULO EN VARIAS VARIABLES         4   Ciencias             Ciencias de la Computacion, Ingenieria de Sistemas\n",
      "100003        GEOMETRIA VECTORIAL Y ANALITICA     4   Ciencias             Ciencias de la Computacion, Ingenieria de Sistemas\n",
      "100004        ALGEBRA LINEAL                      4   Ciencias             Ciencias de la Computacion, Ingenieria de Sistemas\n",
      "100005        ECUACIONES DIFERENCIALES            4   Ciencias             Ciencias de la Computacion, Ingenieria de Sistemas\n",
      "100006        FUNDAMENTOS DE PROGRAMACION         3   Minas                Ciencias de la Computacion, Ingenieria de Sistemas\n",
      "100007        PROGRAMACION ORIENTADA A OBJETOS    3   Minas                Ciencias de la Computacion, Ingenieria de Sistemas\n",
      "100008        ESTRUCTURAS DE DATOS                3   Minas                Ciencias de la Computacion, Ingenieria de Sistemas\n",
      "100009        FUNDAMENTOS DE MATEMATICAS          4   Ciencias             Ciencias de la Computacion    \n",
      "100010        FUNDAMENTOS DE MATEMATICAS DISCR    4   Ciencias             Ciencias de la Computacion    \n",
      "100011        FUNDAMENTOS DE ANALISIS             4   Ciencias             Ciencias de la Computacion    \n",
      "100012        TEORIA BASICA DE LA PROBABILIDAD    4   Ciencias             Ciencias de la Computacion    \n",
      "100013        BASES DE DATOS I                    3   Minas                Ciencias de la Computacion, Ingenieria de Sistemas\n",
      "100014        MATEMATICAS DISCRETAS               4   Ciencias             Ingenieria de Sistemas        \n",
      "100015        TEORIA DE LENGUAJES DE PROGRAMAC    3   Minas                Ingenieria de Sistemas        \n",
      "100016        INGENIERIA DE SOFTWARE              3   Minas                Ingenieria de Sistemas        \n",
      "100017        INGENIERIA DE REQUISITOS            3   Minas                Ingenieria de Sistemas        \n",
      "100018        CALIDAD DE SOFTWARE                 3   Minas                Ingenieria de Sistemas        \n",
      "100019        VISION ARTIFICIAL                   3   Minas                Ingenieria de Sistemas, Ciencias de la Computacion\n",
      "100020        INTRODUCCION A CIENCIAS DE LA CO    2   Ciencias             Ciencias de la Computacion    \n",
      "100021        INTRODUCCION A INGENIERIA DE SIS    2   Minas                Ingenieria de Sistemas        \n",
      "100022        GRUPOS Y ANILLOS                    4   Ciencias             Ciencias de la Computacion    \n",
      "100023        METODOS NUMERICOS                   4   Ciencias             Ciencias de la Computacion, Ingenieria de Sistemas\n",
      "100024        BASES DE DATOS II                   3   Ciencias             Ciencias de la Computacion, Ingenieria de Sistemas\n"
     ]
    }
   ],
   "source": [
    "for c in Registro.getCursos() :\n",
    "    print(\"{:<10}    {:<32}    {}   {:<17}    {:<30}\".format(c.getId(), c.getNombre()[:32], c.getCreditos(), c.getFacultad()[0].value[1], ', '.join([i.value[1] for i in c.getCarrerasRelacionadas()])))"
   ]
  },
  {
   "attachments": {},
   "cell_type": "markdown",
   "metadata": {},
   "source": [
    "# PROFESORES"
   ]
  },
  {
   "cell_type": "code",
   "execution_count": 13,
   "metadata": {},
   "outputs": [],
   "source": [
    "def GenerarProfesor(nombre, ids=[], fac=None) :\n",
    "    from random import randint\n",
    "    horarios1 = [f\"Martes {str(n).zfill(2)}:00-{str(n+2).zfill(2)}:00 Jueves {str(n).zfill(2)}:00-{str(n+2).zfill(2)}:00\" for n in range(6, 20, 2)]\n",
    "    horarios2 = [f\"Miercoles {str(n).zfill(2)}:00-{str(n+2).zfill(2)}:00 Viernes {str(n).zfill(2)}:00-{str(n+2).zfill(2)}:00\" for n in range(6, 20, 2)]\n",
    "    horarios3 = [f\"Lunes {str(n).zfill(2)}:00-{str(n+2).zfill(2)}:00 Sabado {str(n).zfill(2)}:00-{str(n+2).zfill(2)}:00\" for n in range(6, 20, 2)]\n",
    "    horarios = horarios1 + horarios2 + horarios3\n",
    "\n",
    "    if fac == None :\n",
    "        facs = [MIN, CIEN]\n",
    "        fac = facs[randint(0,1)]\n",
    "\n",
    "    usuario = ''.join(nombre.split()).lower()\n",
    "    correo = f\"{usuario}@unal.edu.co\"\n",
    "    contr = '1234'\n",
    "    doc = randint(1000000000, 1400000000)\n",
    "\n",
    "    if len(ids) == 0 :\n",
    "        ids = set([randint(100000, 100024) for i in range(3)])\n",
    "\n",
    "    cursos = []\n",
    "    for id in ids :\n",
    "        hor_index = randint(0,len(horarios)-1)\n",
    "        horario = horarios[hor_index]\n",
    "        for curso in Registro.getCursos() :\n",
    "            if curso.getId() == id :\n",
    "                cp = CursoProfesor(curso.getNombre(), curso.getId(), curso.getCreditos(), curso.getNumeroParciales(), curso.getListaPorcentajes(), curso.getFacultad(), horario)\n",
    "                cursos.append(cp)\n",
    "\n",
    "    P = Profesor(nombre, correo, usuario, contr, doc, cursos, fac)\n",
    "\n",
    "    for id in ids :\n",
    "        for curso in Registro.getCursos() :\n",
    "            if curso.getId() == id :\n",
    "                curso.agregarProfesor(P)"
   ]
  },
  {
   "cell_type": "code",
   "execution_count": 14,
   "metadata": {},
   "outputs": [],
   "source": [
    "GenerarProfesor('Alberto Toro', [100003], MIN)\n",
    "GenerarProfesor('Alejandra Mantilla', [100000, 100005, 100011], CIEN)\n",
    "GenerarProfesor('Armando Bonilla', [100000, 100005, 100011], MIN)\n",
    "GenerarProfesor('Mariana Perez', [100000, 100002, 100003, 100005, 100011], CIEN)\n",
    "GenerarProfesor('Gustavo Rendon', [100000, 100002, 100003, 100005, 100011], MIN)"
   ]
  },
  {
   "cell_type": "code",
   "execution_count": 15,
   "metadata": {},
   "outputs": [],
   "source": [
    "profs = [\n",
    "    \"Emma Garcia\",\n",
    "    \"Mateo Lopez\",\n",
    "    \"Sofia Rodriguez\",\n",
    "    \"Alejandro Torres\",\n",
    "    \"Valentina Gonzalez\",\n",
    "    \"Lucas Ramirez\",\n",
    "    \"Isabella Fernandez\",\n",
    "    \"Julian Herrera\",\n",
    "    \"Camila Castro\",\n",
    "    \"Sebastian Vargas\",\n",
    "    \"Valeria Morales\",\n",
    "    \"Nicolas Navarro\",\n",
    "    \"Martina Paredes\",\n",
    "    \"Daniel Mendoza\",\n",
    "    \"Antonella Silva\",\n",
    "    \"Santiago Rios\",\n",
    "    \"Lucia Castro\",\n",
    "    \"Gabriel Delgado\",\n",
    "    \"Renata Ortiz\",\n",
    "    \"Tomas Medina\",\n",
    "    \"Luisa Martinez\",\n",
    "    \"Andres Diaz\",\n",
    "    \"Mariana Ruiz\",\n",
    "    \"Juan Romero\",\n",
    "    \"Carolina Morales\",\n",
    "    \"Diego Herrera\",\n",
    "    \"Paula Gutierrez\",\n",
    "    \"Felipe Castro\",\n",
    "    \"Maria Sanchez\",\n",
    "    \"Pedro Jimenez\"\n",
    "]\n",
    "for p in profs :\n",
    "    GenerarProfesor(p)"
   ]
  },
  {
   "cell_type": "code",
   "execution_count": null,
   "metadata": {},
   "outputs": [],
   "source": [
    "nombres_extra = [\n",
    "    \"Juan Garcia\",\n",
    "    \"Maria Rodriguez\",\n",
    "    \"Luis Lopez\",\n",
    "    \"Ana Martinez\",\n",
    "    \"Pedro Gonzalez\",\n",
    "    \"Laura Hernandez\",\n",
    "    \"Carlos Perez\",\n",
    "    \"Sofia Sanchez\",\n",
    "    \"Javier Torres\",\n",
    "    \"Isabel Ramirez\",\n",
    "    \"Diego Vargas\",\n",
    "    \"Paula Morales\",\n",
    "    \"Andres Castro\",\n",
    "    \"Valentina Romero\",\n",
    "    \"Miguel Jimenez\",\n",
    "    \"Lucia Herrera\",\n",
    "]"
   ]
  },
  {
   "cell_type": "code",
   "execution_count": null,
   "metadata": {},
   "outputs": [],
   "source": [
    "for curso in Registro.getCursos() :\n",
    "    if len(curso.getProfesoresQueDictanElCurso()) == 0 :\n",
    "        from random import randint\n",
    "        for i in range(3) : \n",
    "            prof_index = randint(0, len(nombres_extra) - 1)\n",
    "            GenerarProfesor(nombres_extra[prof_index], [curso.getId()])"
   ]
  },
  {
   "cell_type": "code",
   "execution_count": null,
   "metadata": {},
   "outputs": [],
   "source": [
    "Registro.setProfesores([])\n",
    "for c in Registro.getCursos() : c.setProfesoresQueDictanElCurso([])"
   ]
  },
  {
   "cell_type": "code",
   "execution_count": 16,
   "metadata": {},
   "outputs": [],
   "source": [
    "from random import uniform\n",
    "for profesor in Registro.getProfesores() :\n",
    "    profesor.setCalificacion(round(uniform(2, 5), 1))"
   ]
  },
  {
   "cell_type": "code",
   "execution_count": 17,
   "metadata": {},
   "outputs": [
    {
     "name": "stdout",
     "output_type": "stream",
     "text": [
      "Alberto Toro    2.4\n",
      "Alejandra Mantilla    3.6\n",
      "Armando Bonilla    4.7\n",
      "Mariana Perez    2.8\n",
      "Gustavo Rendon    2.4\n",
      "Emma Garcia    2.8\n",
      "Mateo Lopez    3.0\n",
      "Sofia Rodriguez    5.0\n",
      "Alejandro Torres    4.6\n",
      "Valentina Gonzalez    4.9\n",
      "Lucas Ramirez    3.3\n",
      "Isabella Fernandez    3.0\n",
      "Julian Herrera    3.5\n",
      "Camila Castro    2.8\n",
      "Sebastian Vargas    4.7\n",
      "Valeria Morales    2.5\n",
      "Nicolas Navarro    2.9\n",
      "Martina Paredes    4.8\n",
      "Daniel Mendoza    4.0\n",
      "Antonella Silva    2.7\n",
      "Santiago Rios    3.4\n",
      "Lucia Castro    3.1\n",
      "Gabriel Delgado    2.7\n",
      "Renata Ortiz    2.3\n",
      "Tomas Medina    4.8\n",
      "Luisa Martinez    4.2\n",
      "Andres Diaz    4.1\n",
      "Mariana Ruiz    5.0\n",
      "Juan Romero    4.6\n",
      "Carolina Morales    2.1\n",
      "Diego Herrera    3.4\n",
      "Paula Gutierrez    4.2\n",
      "Felipe Castro    3.5\n",
      "Maria Sanchez    4.8\n",
      "Pedro Jimenez    4.4\n"
     ]
    }
   ],
   "source": [
    "for profesor in Registro.getProfesores() :\n",
    "    print(f\"{profesor.getNombre()}    {profesor.getCalificacion()}\")"
   ]
  },
  {
   "attachments": {},
   "cell_type": "markdown",
   "metadata": {},
   "source": [
    "# ESTUDIANTES"
   ]
  },
  {
   "cell_type": "code",
   "execution_count": 18,
   "metadata": {},
   "outputs": [],
   "source": [
    "def GenerarEstudiante(nombre, ids=None, notas=None, facultad=None, carrera=None, semestre=0) :\n",
    "    from random import randint\n",
    "    usuario = ''.join(nombre.split()).lower()\n",
    "    correo = f\"{usuario}@unal.edu.co\"\n",
    "    contr = '1234'\n",
    "    doc = randint(1000000000, 1400000000)\n",
    "    \n",
    "    if ids == None :\n",
    "        a = randint(0,24)\n",
    "        ids = [100000 + i for i in range(a)]\n",
    "    \n",
    "    if semestre == 0 : semestre = randint(1,10)\n",
    "\n",
    "    if facultad == None :\n",
    "        facs = [MIN, CIEN]\n",
    "        carrs = [SIS, COMP]\n",
    "        n = randint(0,1)\n",
    "        facultad, carrera = facs[n], carrs[n]\n",
    "\n",
    "    prof_index = randint(0, len(Registro.getProfesores()) - 1)\n",
    "    profesorConElQueCurso = Registro.getProfesores()[prof_index]\n",
    "\n",
    "    E = Estudiante(nombre, correo, usuario, contr, doc, carrera, facultad, semestre)\n",
    "\n",
    "    for i in range(len(ids)) :\n",
    "        for curso in Registro.getCursos() :\n",
    "            if curso.getId() == ids[i] :\n",
    "                if notas == None :\n",
    "                    from random import uniform\n",
    "                    cal = [round(uniform(2, 5.1), 1) for j in range(curso.getNumeroParciales())]\n",
    "                else :\n",
    "                    cal = notas[i]\n",
    "                ce = CursoEstudiante(curso.getNombre(), \n",
    "                                     curso.getId(), \n",
    "                                     curso.getCupos(), \n",
    "                                     curso.getCreditos(), \n",
    "                                     curso.getNumeroParciales(), \n",
    "                                     curso.getListaPorcentajes(),\n",
    "                                     curso.getFacultad(),\n",
    "                                     cal,\n",
    "                                     0,\n",
    "                                     E,\n",
    "                                     None,\n",
    "                                     profesorConElQueCurso)\n",
    "                E.agregarCursoVisto(ce)\n",
    "                break"
   ]
  },
  {
   "cell_type": "code",
   "execution_count": 19,
   "metadata": {},
   "outputs": [],
   "source": [
    "GenerarEstudiante('Samuel Restrepo', [100000, 100001, 100002, 100003, 100004], [[4.5, 4, 4.6], [4, 4.7, 4.6], [4.7, 4.6, 4.3], [4.9, 4.7, 4.5], [4.7, 4.9, 5]], CIEN, COMP, 4)\n",
    "GenerarEstudiante('Jesus Porto', [100000, 100001, 100002, 100003, 100004], [[4.5, 4, 4.6], [4, 4.7, 4.6], [4.7, 4.6, 4.3], [4.9, 4.7, 4.5], [4.7, 4.9, 5]], MIN, SIS, 4)\n",
    "GenerarEstudiante('Santiago Perez', [100000, 100001, 100002, 100003, 100004], [[3, 2.8, 3.5], [3.7, 4.3, 3], [2.9, 3.1, 3], [4, 2, 3], [3.1, 3.3, 3.6]], CIEN, COMP, 4)\n",
    "GenerarEstudiante('Juan Robledo')\n",
    "GenerarEstudiante('Jhon Hernandez')"
   ]
  },
  {
   "cell_type": "code",
   "execution_count": 20,
   "metadata": {},
   "outputs": [],
   "source": [
    "estudiantes = [\n",
    "    \"Juan Martinez\",\n",
    "    \"Ana Lopez\",\n",
    "    \"Carlos Rodriguez\",\n",
    "    \"Maria Garcia\",\n",
    "    \"Luis Torres\",\n",
    "    \"Laura Fernandez\",\n",
    "    \"Andres Ramirez\",\n",
    "    \"Sofia Morales\",\n",
    "    \"Diego Gonzalez\",\n",
    "    \"Valeria Castro\",\n",
    "    \"Javier Vargas\",\n",
    "    \"Camila Herrera\",\n",
    "    \"Felipe Silva\",\n",
    "    \"Natalia Pena\",\n",
    "    \"Alejandro Gomez\",\n",
    "    \"Isabella Navarro\",\n",
    "    \"Manuel Paredes\",\n",
    "    \"Victoria Rios\",\n",
    "    \"Sebastian Mendoza\",\n",
    "    \"Gabriela Ortega\",\n",
    "    \"Jose Romero\",\n",
    "    \"Gabriela Guzman\",\n",
    "    \"Daniel Ochoa\",\n",
    "    \"Paula Escobar\",\n",
    "    \"Pedro Sanchez\",\n",
    "    \"Catalina Salazar\",\n",
    "    \"Mario Herrera\",\n",
    "    \"Carolina Munoz\",\n",
    "    \"Andres Medina\",\n",
    "    \"Alejandra Vargas\"\n",
    "]"
   ]
  },
  {
   "cell_type": "code",
   "execution_count": 21,
   "metadata": {},
   "outputs": [],
   "source": [
    "for e in estudiantes :\n",
    "    GenerarEstudiante(e)"
   ]
  },
  {
   "cell_type": "code",
   "execution_count": 22,
   "metadata": {},
   "outputs": [
    {
     "name": "stdout",
     "output_type": "stream",
     "text": [
      "Samuel Restrepo   4.6\n",
      "Jesus Porto   4.6\n",
      "Santiago Perez   3.2\n",
      "Juan Robledo   3.5\n",
      "Jhon Hernandez   3.6\n",
      "Juan Martinez   3.4\n",
      "Ana Lopez   3.6\n",
      "Carlos Rodriguez   3.3\n",
      "Maria Garcia   3.3\n",
      "Luis Torres   2.9\n",
      "Laura Fernandez   3.9\n",
      "Andres Ramirez   3.7\n",
      "Sofia Morales   0\n",
      "Diego Gonzalez   3.7\n",
      "Valeria Castro   3.6\n",
      "Javier Vargas   3.0\n",
      "Camila Herrera   3.5\n",
      "Felipe Silva   3.8\n",
      "Natalia Pena   3.7\n",
      "Alejandro Gomez   3.6\n",
      "Isabella Navarro   4.0\n",
      "Manuel Paredes   3.0\n",
      "Victoria Rios   3.5\n",
      "Sebastian Mendoza   3.2\n",
      "Gabriela Ortega   3.4\n",
      "Jose Romero   3.3\n",
      "Gabriela Guzman   3.5\n",
      "Daniel Ochoa   3.4\n",
      "Paula Escobar   3.5\n",
      "Pedro Sanchez   3.4\n",
      "Catalina Salazar   3.6\n",
      "Mario Herrera   3.8\n",
      "Carolina Munoz   3.7\n",
      "Andres Medina   3.5\n",
      "Alejandra Vargas   3.6\n"
     ]
    }
   ],
   "source": [
    "for e in Registro.getEstudiantes() :\n",
    "    print(f\"{e.getNombre()}   {e.calcularPAPA():}\")"
   ]
  },
  {
   "cell_type": "code",
   "execution_count": null,
   "metadata": {},
   "outputs": [],
   "source": [
    "Registro.setEstudiantes([])"
   ]
  },
  {
   "cell_type": "code",
   "execution_count": 23,
   "metadata": {},
   "outputs": [],
   "source": [
    "Serializador.serializador()"
   ]
  },
  {
   "attachments": {},
   "cell_type": "markdown",
   "metadata": {},
   "source": [
    "# Estimulos Profesor y Estudiate"
   ]
  },
  {
   "cell_type": "code",
   "execution_count": 9,
   "metadata": {},
   "outputs": [],
   "source": [
    "estimulosProfesor = [\n",
    "  EstimuloProfesor(\"Investigación - Ciencias\", \"Beca de investigación en física teórica de partículas subatómicas\", TipoUsuarios.PROFESOR, [CIEN], 2, [100003, 100011]),\n",
    "  EstimuloProfesor(\"Proyecto - Ingeniería\", \"Financiamiento para desarrollar un prototipo de energía renovable\", TipoUsuarios.PROFESOR, [CIEN], 1, [100000, 100005, 100011]),\n",
    "  EstimuloProfesor(\"Taller - Arte\", \"Taller de pintura y escultura en una reconocida galería de arte\", TipoUsuarios.PROFESOR, [MIN], 4, [100000, 100002]),\n",
    "  EstimuloProfesor(\"Conferencia - Historia\", \"Asistencia a una conferencia internacional sobre historia antigua\", TipoUsuarios.PROFESOR, [MIN], 2, [100003, 100005, 100011]),\n",
    "  EstimuloProfesor(\"Pasantía - Medicina\", \"Pasantía en un hospital de renombre para estudiar medicina interna\", TipoUsuarios.PROFESOR, [CIEN], 3, [100002, 100011]),\n",
    "  EstimuloProfesor(\"Voluntariado - Educación\", \"Participación en un programa de voluntariado para enseñar a niños desfavorecidos\", TipoUsuarios.PROFESOR, [MIN], 4, [100003]),\n",
    "  EstimuloProfesor(\"Publicación - Ciencias de la Computación\", \"Financiamiento para publicar un artículo científico en una conferencia internacional\", TipoUsuarios.PROFESOR, [CIEN], 1, [100003, 100005])\n",
    "]\n",
    "\n",
    "Registro.setEstimulosProfesores(estimulosProfesor)\n"
   ]
  },
  {
   "cell_type": "code",
   "execution_count": 8,
   "metadata": {},
   "outputs": [],
   "source": [
    "estimulosEstudiantes = [\n",
    "  EstimuloEstudiante(\"Beca - Ciencias\", \"Beca completa para estudiar Biología en una universidad de renombre\", TipoUsuarios.ESTUDIANTE, [MIN], 2, 21, 3.4),\n",
    "  EstimuloEstudiante(\"Voluntariado - Educación\", \"Participación en un programa de voluntariado para enseñar a niños desfavorecidos\", TipoUsuarios.ESTUDIANTE, [MIN], 4, 21, 3.8),\n",
    "  EstimuloEstudiante(\"Intercambio - Idiomas\", \"Intercambio académico para aprender francés en Canadá\", TipoUsuarios.ESTUDIANTE, [CIEN], 3, 20, 4.2),\n",
    "  EstimuloEstudiante(\"Competencia - Matemáticas\", \"Participación en la Olimpiada Internacional de Matemáticas\", TipoUsuarios.ESTUDIANTE, [MIN], 5, 21, 4.7),\n",
    "  EstimuloEstudiante(\"Proyecto - Ingeniería\", \"Financiamiento para desarrollar un prototipo de energía renovable\", TipoUsuarios.ESTUDIANTE, [CIEN], 1, 19, 4.5),\n",
    "  EstimuloEstudiante(\"Pasantía - Medicina\", \"Pasantía en un hospital de renombre para estudiar medicina interna\", TipoUsuarios.ESTUDIANTE, [CIEN], 3, 20, 4.1),\n",
    "  EstimuloEstudiante(\"Taller - Arte\", \"Taller de pintura y escultura en una reconocida galería de arte\", TipoUsuarios.ESTUDIANTE, [MIN], 4, 21, 4.9)\n",
    "]\n",
    "\n",
    "Registro.setEstimulosEstudiantes(estimulosEstudiantes)"
   ]
  },
  {
   "cell_type": "code",
   "execution_count": null,
   "metadata": {},
   "outputs": [],
   "source": [
    "Serializador.serializador()"
   ]
  },
  {
   "cell_type": "code",
   "execution_count": 35,
   "metadata": {},
   "outputs": [
    {
     "name": "stdout",
     "output_type": "stream",
     "text": [
      "7\n",
      "7\n"
     ]
    }
   ],
   "source": [
    "print(len(Registro.getEstimulosProfesores()))\n",
    "print(len(Registro.getEstimulosEstudiantes()))"
   ]
  },
  {
   "attachments": {},
   "cell_type": "markdown",
   "metadata": {},
   "source": [
    "# Admins"
   ]
  },
  {
   "cell_type": "code",
   "execution_count": 29,
   "metadata": {},
   "outputs": [],
   "source": [
    "admin1 = Admin(\"Admin\", \"admin@admin.com\", \"admin\", \"1234\", \"112233\")"
   ]
  },
  {
   "cell_type": "code",
   "execution_count": 31,
   "metadata": {},
   "outputs": [
    {
     "name": "stdout",
     "output_type": "stream",
     "text": [
      "1\n"
     ]
    }
   ],
   "source": [
    "print(len(Registro.getAdmins()))"
   ]
  }
 ],
 "metadata": {
  "kernelspec": {
   "display_name": "Python 3",
   "language": "python",
   "name": "python3"
  },
  "language_info": {
   "codemirror_mode": {
    "name": "ipython",
    "version": 3
   },
   "file_extension": ".py",
   "mimetype": "text/x-python",
   "name": "python",
   "nbconvert_exporter": "python",
   "pygments_lexer": "ipython3",
   "version": "3.10.11"
  },
  "orig_nbformat": 4
 },
 "nbformat": 4,
 "nbformat_minor": 2
}
